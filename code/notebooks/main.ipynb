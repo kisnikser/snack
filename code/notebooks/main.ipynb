{
 "cells": [
  {
   "cell_type": "markdown",
   "id": "d1016a0d",
   "metadata": {},
   "source": [
    "# SNACK: Sequence Normalized Alignment Comparison Kit\n",
    "\n",
    "This notebook demonstrates the use of the SNACK library for protein sequence alignment and compares its performance against traditional methods like PAM and BLOSUM."
   ]
  },
  {
   "cell_type": "markdown",
   "id": "5e7df6bb",
   "metadata": {},
   "source": [
    "## 1. Setup and Imports\n",
    "\n",
    "Import necessary libraries and configure the environment."
   ]
  },
  {
   "cell_type": "code",
   "execution_count": 15,
   "id": "707ed91a",
   "metadata": {},
   "outputs": [
    {
     "name": "stdout",
     "output_type": "stream",
     "text": [
      "The autoreload extension is already loaded. To reload it, use:\n",
      "  %reload_ext autoreload\n"
     ]
    }
   ],
   "source": [
    "import sys\n",
    "import os\n",
    "import numpy as np\n",
    "import torch\n",
    "import matplotlib.pyplot as plt\n",
    "import seaborn as sns\n",
    "from Bio.Align import substitution_matrices\n",
    "\n",
    "from snack.features import FeatureSpace\n",
    "from snack.metric import Snack\n",
    "from snack.alignment import needleman_wunsch\n",
    "from snack.data import load_msf_data\n",
    "from snack.train import train_model, get_device\n",
    "\n",
    "%matplotlib inline\n",
    "%load_ext autoreload\n",
    "%autoreload 2"
   ]
  },
  {
   "cell_type": "markdown",
   "id": "e2212d2b",
   "metadata": {},
   "source": [
    "## 2. Load Data and Train SNACK Model\n",
    "\n",
    "Load sequence alignment data and train the SNACK model. For demonstration, we'll use a small subset of the BALIBASE dataset and a few training epochs."
   ]
  },
  {
   "cell_type": "code",
   "execution_count": 16,
   "id": "67293543",
   "metadata": {},
   "outputs": [
    {
     "name": "stdout",
     "output_type": "stream",
     "text": [
      "Training on device: mps\n"
     ]
    },
    {
     "name": "stderr",
     "output_type": "stream",
     "text": [
      " 77%|███████▋  | 10/13 [01:38<00:37, 12.56s/it]"
     ]
    },
    {
     "name": "stdout",
     "output_type": "stream",
     "text": [
      "  Batch 10, Progress: 320/386 pairs, Loss: 7072.2617\n"
     ]
    },
    {
     "name": "stderr",
     "output_type": "stream",
     "text": [
      "100%|██████████| 13/13 [03:27<00:00, 15.97s/it]\n",
      "100%|██████████| 13/13 [03:27<00:00, 15.97s/it]\n"
     ]
    },
    {
     "name": "stdout",
     "output_type": "stream",
     "text": [
      "Epoch [1/10], Loss: 8995.6306, Time: 207.62s, LR: 0.001000\n",
      "New best loss: 8995.6306\n"
     ]
    },
    {
     "name": "stderr",
     "output_type": "stream",
     "text": [
      " 77%|███████▋  | 10/13 [01:36<00:38, 12.80s/it]"
     ]
    },
    {
     "name": "stdout",
     "output_type": "stream",
     "text": [
      "  Batch 10, Progress: 320/386 pairs, Loss: 7066.8434\n"
     ]
    },
    {
     "name": "stderr",
     "output_type": "stream",
     "text": [
      "100%|██████████| 13/13 [03:24<00:00, 15.72s/it]\n",
      "100%|██████████| 13/13 [03:24<00:00, 15.72s/it]\n"
     ]
    },
    {
     "name": "stdout",
     "output_type": "stream",
     "text": [
      "Epoch [2/10], Loss: 8986.4826, Time: 204.35s, LR: 0.001000\n",
      "New best loss: 8986.4826\n"
     ]
    },
    {
     "name": "stderr",
     "output_type": "stream",
     "text": [
      " 77%|███████▋  | 10/13 [01:35<00:37, 12.42s/it]"
     ]
    },
    {
     "name": "stdout",
     "output_type": "stream",
     "text": [
      "  Batch 10, Progress: 320/386 pairs, Loss: 7061.6716\n"
     ]
    },
    {
     "name": "stderr",
     "output_type": "stream",
     "text": [
      "100%|██████████| 13/13 [03:25<00:00, 15.78s/it]\n",
      "100%|██████████| 13/13 [03:25<00:00, 15.78s/it]\n"
     ]
    },
    {
     "name": "stdout",
     "output_type": "stream",
     "text": [
      "Epoch [3/10], Loss: 8977.1870, Time: 205.13s, LR: 0.001000\n",
      "New best loss: 8977.1870\n"
     ]
    },
    {
     "name": "stderr",
     "output_type": "stream",
     "text": [
      " 77%|███████▋  | 10/13 [01:42<00:42, 14.21s/it]"
     ]
    },
    {
     "name": "stdout",
     "output_type": "stream",
     "text": [
      "  Batch 10, Progress: 320/386 pairs, Loss: 7049.8947\n"
     ]
    },
    {
     "name": "stderr",
     "output_type": "stream",
     "text": [
      "100%|██████████| 13/13 [03:30<00:00, 16.20s/it]\n",
      "100%|██████████| 13/13 [03:30<00:00, 16.20s/it]\n"
     ]
    },
    {
     "name": "stdout",
     "output_type": "stream",
     "text": [
      "Epoch [4/10], Loss: 8962.2447, Time: 210.57s, LR: 0.001000\n",
      "New best loss: 8962.2447\n"
     ]
    },
    {
     "name": "stderr",
     "output_type": "stream",
     "text": [
      " 77%|███████▋  | 10/13 [01:40<00:39, 13.12s/it]"
     ]
    },
    {
     "name": "stdout",
     "output_type": "stream",
     "text": [
      "  Batch 10, Progress: 320/386 pairs, Loss: 7043.3585\n"
     ]
    },
    {
     "name": "stderr",
     "output_type": "stream",
     "text": [
      "100%|██████████| 13/13 [03:31<00:00, 16.24s/it]\n"
     ]
    },
    {
     "name": "stdout",
     "output_type": "stream",
     "text": [
      "Epoch [5/10], Loss: 8953.3936, Time: 211.19s, LR: 0.001000\n",
      "New best loss: 8953.3936\n"
     ]
    },
    {
     "name": "stderr",
     "output_type": "stream",
     "text": [
      " 77%|███████▋  | 10/13 [01:35<00:38, 12.76s/it]"
     ]
    },
    {
     "name": "stdout",
     "output_type": "stream",
     "text": [
      "  Batch 10, Progress: 320/386 pairs, Loss: 7053.0223\n"
     ]
    },
    {
     "name": "stderr",
     "output_type": "stream",
     "text": [
      "100%|██████████| 13/13 [03:24<00:00, 15.75s/it]\n"
     ]
    },
    {
     "name": "stdout",
     "output_type": "stream",
     "text": [
      "Epoch [6/10], Loss: 8962.2602, Time: 204.73s, LR: 0.001000\n"
     ]
    },
    {
     "name": "stderr",
     "output_type": "stream",
     "text": [
      " 77%|███████▋  | 10/13 [01:35<00:37, 12.55s/it]"
     ]
    },
    {
     "name": "stdout",
     "output_type": "stream",
     "text": [
      "  Batch 10, Progress: 320/386 pairs, Loss: 7052.0153\n"
     ]
    },
    {
     "name": "stderr",
     "output_type": "stream",
     "text": [
      "100%|██████████| 13/13 [03:26<00:00, 15.87s/it]\n"
     ]
    },
    {
     "name": "stdout",
     "output_type": "stream",
     "text": [
      "Epoch [7/10], Loss: 8955.4478, Time: 206.30s, LR: 0.001000\n"
     ]
    },
    {
     "name": "stderr",
     "output_type": "stream",
     "text": [
      " 77%|███████▋  | 10/13 [01:39<00:38, 12.98s/it]"
     ]
    },
    {
     "name": "stdout",
     "output_type": "stream",
     "text": [
      "  Batch 10, Progress: 320/386 pairs, Loss: 7047.7667\n"
     ]
    },
    {
     "name": "stderr",
     "output_type": "stream",
     "text": [
      "100%|██████████| 13/13 [03:27<00:00, 15.99s/it]\n"
     ]
    },
    {
     "name": "stdout",
     "output_type": "stream",
     "text": [
      "Epoch [8/10], Loss: 8947.3662, Time: 207.90s, LR: 0.001000\n",
      "New best loss: 8947.3662\n"
     ]
    },
    {
     "name": "stderr",
     "output_type": "stream",
     "text": [
      " 77%|███████▋  | 10/13 [01:34<00:37, 12.36s/it]"
     ]
    },
    {
     "name": "stdout",
     "output_type": "stream",
     "text": [
      "  Batch 10, Progress: 320/386 pairs, Loss: 7042.1565\n"
     ]
    },
    {
     "name": "stderr",
     "output_type": "stream",
     "text": [
      "100%|██████████| 13/13 [03:23<00:00, 15.63s/it]\n"
     ]
    },
    {
     "name": "stdout",
     "output_type": "stream",
     "text": [
      "Epoch [9/10], Loss: 8935.8318, Time: 203.18s, LR: 0.001000\n",
      "New best loss: 8935.8318\n"
     ]
    },
    {
     "name": "stderr",
     "output_type": "stream",
     "text": [
      " 77%|███████▋  | 10/13 [01:34<00:37, 12.44s/it]"
     ]
    },
    {
     "name": "stdout",
     "output_type": "stream",
     "text": [
      "  Batch 10, Progress: 320/386 pairs, Loss: 7037.1086\n"
     ]
    },
    {
     "name": "stderr",
     "output_type": "stream",
     "text": [
      "100%|██████████| 13/13 [03:18<00:00, 15.30s/it]"
     ]
    },
    {
     "name": "stdout",
     "output_type": "stream",
     "text": [
      "Epoch [10/10], Loss: 8925.4992, Time: 198.93s, LR: 0.001000\n",
      "New best loss: 8925.4992\n",
      "Training completed in 2059.89s\n"
     ]
    },
    {
     "name": "stderr",
     "output_type": "stream",
     "text": [
      "\n"
     ]
    }
   ],
   "source": [
    "# Get the current directory and use relative path for dataset\n",
    "dataset_path = \"../data\"\n",
    "\n",
    "# Auto-detect the best available device\n",
    "device = get_device()\n",
    "\n",
    "# Инициализируем пространство признаков\n",
    "feature_space = FeatureSpace()\n",
    "\n",
    "# Инициализируем модель с метрикой\n",
    "snack = Snack(feature_space=feature_space)\n",
    "\n",
    "# Запускаем обучение с использованием GPU/MPS если доступно\n",
    "train_model(\n",
    "    model=snack,\n",
    "    dataset_path=dataset_path,\n",
    "    num_epochs=10,\n",
    "    learning_rate=0.001,\n",
    "    batch_size=32,\n",
    "    device=device,\n",
    ")\n"
   ]
  },
  {
   "cell_type": "markdown",
   "id": "95eedefe",
   "metadata": {},
   "source": [
    "## 3. Load PAM and BLOSUM Matrices\n",
    "\n",
    "Load standard PAM250 and BLOSUM62 substitution matrices from BioPython."
   ]
  },
  {
   "cell_type": "code",
   "execution_count": 17,
   "id": "9b31ca30",
   "metadata": {},
   "outputs": [
    {
     "name": "stdout",
     "output_type": "stream",
     "text": [
      "PAM250 and BLOSUM62 matrices loaded.\n"
     ]
    }
   ],
   "source": [
    "pam250 = substitution_matrices.load('PAM250')\n",
    "blosum62 = substitution_matrices.load('BLOSUM62')\n",
    "\n",
    "print(\"PAM250 and BLOSUM62 matrices loaded.\")"
   ]
  },
  {
   "cell_type": "markdown",
   "id": "2da6bc25",
   "metadata": {},
   "source": [
    "## 4. Define Alignment and Scoring Functions\n",
    "\n",
    "Define functions to perform sequence alignment using Needleman-Wunsch and calculate alignment scores for each method."
   ]
  },
  {
   "cell_type": "code",
   "execution_count": 18,
   "id": "2ea34fdd",
   "metadata": {},
   "outputs": [
    {
     "name": "stdout",
     "output_type": "stream",
     "text": [
      "Alignment and scoring functions defined.\n"
     ]
    }
   ],
   "source": [
    "def pam_scorer(char1, char2):\n",
    "    \"\"\"Returns the cost for aligning char1 and char2 using PAM250.\n",
    "    Gaps incur a positive_gap_cost.\n",
    "    Matches/mismatches are negative of the PAM250 score (lower cost is better).\"\"\"\n",
    "    # Negate the score to make it a cost\n",
    "    return -pam250.get((char1, char2), pam250.get((char2, char1), 0))\n",
    "\n",
    "def blosum_scorer(char1, char2):\n",
    "    \"\"\"Returns the cost for aligning char1 and char2 using BLOSUM62.\n",
    "    Gaps incur a positive_gap_cost.\n",
    "    Matches/mismatches are negative of the BLOSUM62 score (lower cost is better).\"\"\"\n",
    "    # Negate the score to make it a cost\n",
    "    return -blosum62.get((char1, char2), blosum62.get((char2, char1), 0))\n",
    "\n",
    "print(\"Alignment and scoring functions defined.\")"
   ]
  },
  {
   "cell_type": "markdown",
   "id": "d8b54a68",
   "metadata": {},
   "source": [
    "## 5. Perform Alignments and Compare Scores\n",
    "\n",
    "Select a pair of sequences and align them using SNACK, PAM250, and BLOSUM62. Then, compare their alignment scores."
   ]
  },
  {
   "cell_type": "code",
   "execution_count": 19,
   "id": "baa5cfc4",
   "metadata": {},
   "outputs": [
    {
     "name": "stdout",
     "output_type": "stream",
     "text": [
      "Using example sequences:\n",
      "Seq1: --------------------------------------------------... (full length: 895)\n",
      "Seq2: --------------------------------------------------... (full length: 895)\n",
      "\n",
      "Aligning with SNACK...\n",
      "--- SNACK Alignment ---\n",
      "--------------------------------------------------------------------------------------------------------------------------------------------------------------------------------------------------------------------------------------------------------------------------------------------------------------------------------------------------------------------------------------------------------------------------------------------------------------------------------------------------------------------------------------PKIVILPHQDLCPDGAVLEANSGETILDAALRNGIEIE-HACEKSCACTTCHCIVREGFDSL----PESSEQ-EDDMLDKAWG-LEPESRLSCQARVT---DEDLVVEIPRYTINHARE-------------------------------------------------------------------------------------------------------------------------------------------------------------------------------------------------------------------------------------------------------------------\n",
      "-------------------------------------------------------------------------------------------------------------------------------------------------------------------------------------------------------------------------------------------------------------------------------------------------------------------------------------------------------------------------------------------------------------------------------------------------------------------------------------------------------------------------------------MPQIVILPHADHCPEGAVFEAKPGETILDAALRNGIEIE-HACEKSCACTTCHVIVREGLDSM-----EPSDELEDDMLDKAWG-LEPDSRLSCQAVVA---DEDLVVEIPKYTINQVSEGH-----------------------------------------------------------------------------------------------------------------------------------------------------------------------------------------------------------------------------------------------------------------\n",
      "SNACK alignment cost (lower is better): 16.855260848999023\n",
      "\n",
      "Aligning with PAM250 (cost-based)...\n",
      "--- PAM250 Alignment ---\n",
      "--------------------------------------------------------------------------------------------------------------------------------------------------------------------------------------------------------------------------------------------------------------------------------------------------------------------------------------------------------------------------------------------------------------------------------------------------------------------------------------------------------------------------------------PKIVILPHQD-LCPDGAVLEANSGETILDAALRNGIEIE-HACEKSCACTTCH-CIVREGFDSL-----P-ESSE-QEDDMLDKAWG-LEPESRLSCQA-RVT---DEDLVVEIPRYTINH-ARE-------------------------------------------------------------------------------------------------------------------------------------------------------------------------------------------------------------------------------------------------------------------\n",
      "-------------------------------------------------------------------------------------------------------------------------------------------------------------------------------------------------------------------------------------------------------------------------------------------------------------------------------------------------------------------------------------------------------------------------------------------------------------------------------------------------------------------------------------MPQIVILPHADH-CPEGAVFEAKPGETILDAALRNGIEIE-HACEKSCACTTCHV-IVREGLDSM----EPSD--EL-EDDMLDKAWG-LEPDSRLSCQAV-VA---DEDLVVEIPKYTINQVS-EGH-----------------------------------------------------------------------------------------------------------------------------------------------------------------------------------------------------------------------------------------------------------------\n",
      "PAM250 alignment cost (lower is better): -470.0\n",
      "\n",
      "Aligning with BLOSUM62 (cost-based)...\n",
      "--- BLOSUM62 Alignment ---\n",
      "--------------------------------------------------------------------------------------------------------------------------------------------------------------------------------------------------------------------------------------------------------------------------------------------------------------------------------------------------------------------------------------------------------------------------------------------------------------------------------------------------------------------------------------PKIVILPH-QD-LCPDGAVLEA--NSGETILDAALRNGIEIE-HACEKSCACTTCH-CIVREGFDSL-----PESSE-QEDDMLDKAWG-LEPESRLSCQA-RVT---DEDLVVEIPRYTIN-----HARE-------------------------------------------------------------------------------------------------------------------------------------------------------------------------------------------------------------------------------------------------------------------\n",
      "-------------------------------------------------------------------------------------------------------------------------------------------------------------------------------------------------------------------------------------------------------------------------------------------------------------------------------------------------------------------------------------------------------------------------------------------------------------------------------------------------------------------------------------MPQIVILPHA-DH-CPEGAVFEAKP--GETILDAALRNGIEIE-HACEKSCACTTCHV-IVREGLDSM----EP-SDEL-EDDMLDKAWG-LEPDSRLSCQAV-VA---DEDLVVEIPKYTINQVSEGH----------------------------------------------------------------------------------------------------------------------------------------------------------------------------------------------------------------------------------------------------------------------\n",
      "BLOSUM62 alignment cost (lower is better): -491.0\n"
     ]
    }
   ],
   "source": [
    "# Load a few example sequences from the dataset for comparison\n",
    "# This requires your load_msf_data to be robust or pick specific files\n",
    "try:\n",
    "    alignment_data_full = load_msf_data(dataset_path)\n",
    "    # Take the first pair of sequences from the first file for a simple demo\n",
    "    if alignment_data_full:\n",
    "        seq1_example, seq2_example = alignment_data_full[0][0], alignment_data_full[0][1]\n",
    "        # No truncation - using full sequences\n",
    "        print(f\"Using example sequences:\\nSeq1: {seq1_example[:50]}... (full length: {len(seq1_example)})\\nSeq2: {seq2_example[:50]}... (full length: {len(seq2_example)})\")\n",
    "    else:\n",
    "        print(\"No data loaded, using dummy sequences.\")\n",
    "        seq1_example, seq2_example = \"GARFIELDTHECAT\", \"GARFIELDTHEBIGCAT\"\n",
    "except Exception as e:\n",
    "    print(f\"Error loading data: {e}. Using dummy sequences.\")\n",
    "    seq1_example, seq2_example = \"PLEASANTLY\", \"MEANLY\"\n",
    "\n",
    "# Align using SNACK (Needleman-Wunsch from snack.alignment using the SNACK metric as cost)\n",
    "print(\"\\nAligning with SNACK...\")\n",
    "aligned_snack1, aligned_snack2 = needleman_wunsch(seq1_example, seq2_example, snack)\n",
    "score_snack_cost = 0\n",
    "for s_a, s_b in zip(aligned_snack1, aligned_snack2):\n",
    "    score_snack_cost += snack(s_a, s_b) # Assumes snack handles gaps appropriately\n",
    "\n",
    "print(\"--- SNACK Alignment ---\")\n",
    "print(aligned_snack1)\n",
    "print(aligned_snack2)\n",
    "print(f\"SNACK alignment cost (lower is better): {score_snack_cost}\")\n",
    "\n",
    "# Align using PAM250 with the package's needleman_wunsch and cost-based pam_scorer\n",
    "print(\"\\nAligning with PAM250 (cost-based)...\")\n",
    "aligned_pam1, aligned_pam2 = needleman_wunsch(seq1_example, seq2_example, pam_scorer)\n",
    "score_pam_cost = 0\n",
    "for s_a, s_b in zip(aligned_pam1, aligned_pam2):\n",
    "    score_pam_cost += pam_scorer(s_a, s_b)\n",
    "\n",
    "print(\"--- PAM250 Alignment ---\")\n",
    "print(aligned_pam1)\n",
    "print(aligned_pam2)\n",
    "print(f\"PAM250 alignment cost (lower is better): {score_pam_cost}\")\n",
    "\n",
    "# Align using BLOSUM62 with the package's needleman_wunsch and cost-based blosum_scorer\n",
    "print(\"\\nAligning with BLOSUM62 (cost-based)...\")\n",
    "aligned_blosum1, aligned_blosum2 = needleman_wunsch(seq1_example, seq2_example, blosum_scorer)\n",
    "score_blosum_cost = 0\n",
    "for s_a, s_b in zip(aligned_blosum1, aligned_blosum2):\n",
    "    score_blosum_cost += blosum_scorer(s_a, s_b)\n",
    "\n",
    "print(\"--- BLOSUM62 Alignment ---\")\n",
    "print(aligned_blosum1)\n",
    "print(aligned_blosum2)\n",
    "print(f\"BLOSUM62 alignment cost (lower is better): {score_blosum_cost}\")"
   ]
  },
  {
   "cell_type": "markdown",
   "id": "84c59676",
   "metadata": {},
   "source": [
    "## 6. Visualize Substitution Matrices\n",
    "\n",
    "Visualize the SNACK learned substitution matrix (if applicable and interpretable as such) alongside PAM250 and BLOSUM62."
   ]
  },
  {
   "cell_type": "code",
   "execution_count": 20,
   "id": "6acc249e",
   "metadata": {},
   "outputs": [
    {
     "data": {
      "image/png": "[encoded data removed]",
      "text/plain": [
       "<Figure size 2000x600 with 6 Axes>"
      ]
     },
     "metadata": {},
     "output_type": "display_data"
    }
   ],
   "source": [
    "amino_acids = sorted(list(set(seq1_example + seq2_example) - set('-')))\n",
    "if not amino_acids: # Fallback if sequences were empty or only gaps\n",
    "    amino_acids = list('ACDEFGHIKLMNPQRSTVWY')\n",
    "\n",
    "# SNACK's M matrix (or a transformation of it) can be visualized.\n",
    "# The M matrix is in the feature space. To get an AA-to-AA matrix, we'd compute d(aa1, aa2) for all pairs.\n",
    "snack_viz_matrix = np.zeros((len(amino_acids), len(amino_acids)))\n",
    "for i, aa1 in enumerate(amino_acids):\n",
    "    for j, aa2 in enumerate(amino_acids):\n",
    "        # SNACK metric returns a distance. For visualization as a substitution matrix,\n",
    "        # one might want similarity (e.g., max_dist - dist, or 1/dist if dist > 0).\n",
    "        # This depends on how SNACK's distances are scaled and interpreted.\n",
    "        # Let's just show the raw distances for now.\n",
    "        snack_viz_matrix[i, j] = snack(aa1, aa2).item() # .item() if it's a tensor\n",
    "\n",
    "# Now PAM and BLOSUM are also costs (negative of traditional scores)\n",
    "pam250_cost_matrix = np.array([[pam_scorer(aa1, aa2) for aa2 in amino_acids] for aa1 in amino_acids])\n",
    "blosum62_cost_matrix = np.array([[blosum_scorer(aa1, aa2) for aa2 in amino_acids] for aa1 in amino_acids])\n",
    "\n",
    "# Convert back to traditional scores for visualization to maintain consistency\n",
    "pam250_score_matrix = -pam250_cost_matrix\n",
    "blosum62_score_matrix = -blosum62_cost_matrix\n",
    "\n",
    "fig, axes = plt.subplots(1, 3, figsize=(20, 6))\n",
    "\n",
    "sns.heatmap(snack_viz_matrix, ax=axes[0], cmap=\"coolwarm\", annot=False, \n",
    "            xticklabels=amino_acids, yticklabels=amino_acids, cbar_kws={'label': 'SNACK Distance (Cost)'})\n",
    "axes[0].set_title(\"SNACK Learned Distances\")\n",
    "axes[0].set_xlabel(\"Amino Acid\")\n",
    "axes[0].set_ylabel(\"Amino Acid\")\n",
    "\n",
    "sns.heatmap(pam250_score_matrix, ax=axes[1], cmap=\"viridis\", annot=False, \n",
    "            xticklabels=amino_acids, yticklabels=amino_acids, cbar_kws={'label': 'PAM250 Score'})\n",
    "axes[1].set_title(\"PAM250 Scores (Traditional)\")\n",
    "axes[1].set_xlabel(\"Amino Acid\")\n",
    "axes[1].set_ylabel(\"Amino Acid\")\n",
    "\n",
    "sns.heatmap(blosum62_score_matrix, ax=axes[2], cmap=\"viridis\", annot=False, \n",
    "            xticklabels=amino_acids, yticklabels=amino_acids, cbar_kws={'label': 'BLOSUM62 Score'})\n",
    "axes[2].set_title(\"BLOSUM62 Scores (Traditional)\")\n",
    "axes[2].set_xlabel(\"Amino Acid\")\n",
    "axes[2].set_ylabel(\"Amino Acid\")\n",
    "\n",
    "plt.tight_layout()\n",
    "plt.suptitle(\"Comparison of Substitution Matrices/Distances\", fontsize=16, y=1.03)\n",
    "plt.show()"
   ]
  },
  {
   "cell_type": "markdown",
   "id": "13970516",
   "metadata": {},
   "source": [
    "## 7. Further Analysis and Discussion\n",
    "\n",
    "- **Quantitative Comparison**: To rigorously compare SNACK with PAM/BLOSUM, one could use benchmark datasets (e.g., BAliBASE) and evaluate alignment quality using metrics like Sum-of-Pairs Score (SPS) or Total Column Score (TCS) against reference alignments.\n",
    "- **SNACK Score Interpretation**: The raw cost from SNACK's Needleman-Wunsch needs a clear interpretation or transformation to be directly comparable to PAM/BLOSUM scores. If SNACK aims to produce biologically meaningful alignments, its scoring should correlate with known evolutionary or structural similarities.\n",
    "- **Gap Handling**: The current notebook uses a simple linear gap penalty. Affine gap penalties are more common and could be implemented for a more robust comparison.\n",
    "- **Statistical Significance**: Differences in alignment scores or quality metrics should be tested for statistical significance."
   ]
  },
  {
   "cell_type": "markdown",
   "id": "0f1b2679",
   "metadata": {},
   "source": [
    "## 8. Conclusion\n",
    "\n",
    "This notebook provided a basic framework for training a SNACK model, performing alignments, and comparing its behavior to PAM and BLOSUM matrices. Further development and rigorous benchmarking are needed to fully assess the capabilities of the SNACK methodology."
   ]
  }
 ],
 "metadata": {
  "kernelspec": {
   "display_name": "base",
   "language": "python",
   "name": "python3"
  },
  "language_info": {
   "codemirror_mode": {
    "name": "ipython",
    "version": 3
   },
   "file_extension": ".py",
   "mimetype": "text/x-python",
   "name": "python",
   "nbconvert_exporter": "python",
   "pygments_lexer": "ipython3",
   "version": "3.12.7"
  }
 },
 "nbformat": 4,
 "nbformat_minor": 5
}
